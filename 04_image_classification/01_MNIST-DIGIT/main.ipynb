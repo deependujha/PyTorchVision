{
 "cells": [
  {
   "cell_type": "markdown",
   "metadata": {},
   "source": [
    "## Image Classification on MNIST dataset 😼"
   ]
  },
  {
   "cell_type": "markdown",
   "metadata": {},
   "source": [
    "### Import libraries"
   ]
  },
  {
   "cell_type": "code",
   "execution_count": 1,
   "metadata": {},
   "outputs": [
    {
     "data": {
      "text/plain": [
       "device(type='cpu')"
      ]
     },
     "execution_count": 1,
     "metadata": {},
     "output_type": "execute_result"
    }
   ],
   "source": [
    "import numpy as np\n",
    "import torch\n",
    "import torchvision\n",
    "from torchvision.transforms import v2\n",
    "\n",
    "device = torch.device(\"cuda\" if torch.cuda.is_available() else \"cpu\")\n",
    "device"
   ]
  },
  {
   "cell_type": "markdown",
   "metadata": {},
   "source": [
    "### Create transform for image transformation"
   ]
  },
  {
   "cell_type": "code",
   "execution_count": 2,
   "metadata": {},
   "outputs": [],
   "source": [
    "# https://pytorch.org/vision/stable/auto_examples/transforms/plot_transforms_getting_started.html#i-just-want-to-do-image-classification\n",
    "\n",
    "transforms = v2.Compose(\n",
    "    [\n",
    "        v2.PILToTensor(),\n",
    "        v2.ToDtype(torch.float32, scale=True),\n",
    "        v2.Normalize((0.5,), (0.5,)),\n",
    "    ]\n",
    ")"
   ]
  },
  {
   "cell_type": "markdown",
   "metadata": {},
   "source": [
    "### get dataset & pass it into `DataLoader`"
   ]
  },
  {
   "cell_type": "code",
   "execution_count": 3,
   "metadata": {},
   "outputs": [
    {
     "name": "stdout",
     "output_type": "stream",
     "text": [
      "Training set has 60000 instances\n",
      "Validation set has 10000 instances\n"
     ]
    }
   ],
   "source": [
    "# Create datasets for training & validation, download if necessary\n",
    "training_set = torchvision.datasets.MNIST(\n",
    "    \"./data\", train=True, transform=transforms, download=True\n",
    ")\n",
    "validation_set = torchvision.datasets.MNIST(\n",
    "    \"./data\", train=False, transform=transforms, download=True\n",
    ")\n",
    "\n",
    "# Class labels\n",
    "classes = (\"0\",\"1\",\"2\",\"3\",\"4\",\"5\",\"6\",\"7\",\"8\",\"9\")\n",
    "\n",
    "\n",
    "# Create data loaders for our datasets; shuffle for training, not for validation\n",
    "training_loader = torch.utils.data.DataLoader(training_set, batch_size=4, shuffle=True)\n",
    "validation_loader = torch.utils.data.DataLoader(\n",
    "    validation_set, batch_size=4, shuffle=False\n",
    ")\n",
    "print(\"Training set has {} instances\".format(len(training_set)))\n",
    "print(\"Validation set has {} instances\".format(len(validation_set)))"
   ]
  },
  {
   "cell_type": "markdown",
   "metadata": {},
   "source": [
    "### Visualize data"
   ]
  },
  {
   "cell_type": "code",
   "execution_count": 4,
   "metadata": {},
   "outputs": [
    {
     "name": "stdout",
     "output_type": "stream",
     "text": [
      "3  3  1  2\n"
     ]
    },
    {
     "data": {
      "image/png": "[encoded data removed]",
      "text/plain": [
       "<Figure size 640x480 with 1 Axes>"
      ]
     },
     "metadata": {},
     "output_type": "display_data"
    }
   ],
   "source": [
    "import matplotlib.pyplot as plt\n",
    "import numpy as np\n",
    "\n",
    "\n",
    "# Helper function for inline image display\n",
    "def matplotlib_imshow(img, one_channel=False):\n",
    "    if one_channel:\n",
    "        img = img.mean(dim=0)\n",
    "    img = img / 2 + 0.5  # un-normalize\n",
    "    np_img = img.numpy()\n",
    "    if one_channel:\n",
    "        plt.imshow(np_img, cmap=\"Greys\")\n",
    "    else:\n",
    "        plt.imshow(np.transpose(np_img, (1, 2, 0)))\n",
    "\n",
    "\n",
    "data_iter = iter(training_loader)\n",
    "images, labels = next(data_iter)\n",
    "\n",
    "# Create a grid from the images and show them\n",
    "img_grid = torchvision.utils.make_grid(images)\n",
    "matplotlib_imshow(img_grid, one_channel=True)\n",
    "print(\"  \".join(classes[labels[j]] for j in range(4)))"
   ]
  },
  {
   "cell_type": "code",
   "execution_count": 5,
   "metadata": {},
   "outputs": [
    {
     "name": "stdout",
     "output_type": "stream",
     "text": [
      "type(images)=<class 'torch.Tensor'>, type(images[0])=<class 'torch.Tensor'>\n",
      "images.shape=torch.Size([4, 1, 28, 28]), images[0].shape=torch.Size([1, 28, 28])\n"
     ]
    }
   ],
   "source": [
    "print(f\"{type(images)=}, {type(images[0])=}\")\n",
    "print(f\"{images.shape=}, {images[0].shape=}\")"
   ]
  },
  {
   "cell_type": "markdown",
   "metadata": {},
   "source": [
    "---\n",
    "\n",
    "### Let's start working on Classification Model 🦅"
   ]
  },
  {
   "cell_type": "code",
   "execution_count": 6,
   "metadata": {},
   "outputs": [],
   "source": [
    "import torch.nn as nn\n",
    "import torch.nn.functional as F\n",
    "\n",
    "\n",
    "# PyTorch models inherit from torch.nn.Module\n",
    "class MNISTDigitClassifier(nn.Module):\n",
    "    def __init__(self):\n",
    "        super(MNISTDigitClassifier, self).__init__()\n",
    "        self.conv1 = nn.Conv2d(1, 6, 5)  # input= 1*28*28; output=6*24*24 (28-5+1)\n",
    "        self.pool = nn.MaxPool2d(2, 2)  # input= 6*24*24; output=6*12*12 (24/2)\n",
    "        self.conv2 = nn.Conv2d(6, 16, 5)  # input= 6*12*12; output=16*8*8 (12-5+1)\n",
    "        self.fc1 = nn.Linear(16 * 4 * 4, 120)  # after applying `self.pool`, 8/2 = 4. hence input (16*4*4)\n",
    "        self.fc2 = nn.Linear(120, 84)\n",
    "        self.fc3 = nn.Linear(84, 10)\n",
    "\n",
    "    def forward(self, x):\n",
    "        x = self.pool(F.relu(self.conv1(x)))\n",
    "        x = self.pool(F.relu(self.conv2(x)))\n",
    "        x = x.view(-1, 16 * 4 * 4)\n",
    "        x = F.relu(self.fc1(x))\n",
    "        x = F.relu(self.fc2(x))\n",
    "        x = self.fc3(x)\n",
    "        return x\n",
    "\n",
    "\n",
    "model = MNISTDigitClassifier().to(device=device)"
   ]
  },
  {
   "cell_type": "code",
   "execution_count": 7,
   "metadata": {},
   "outputs": [],
   "source": [
    "loss_fn = torch.nn.CrossEntropyLoss()\n",
    "\n",
    "# Optimizers specified in the torch.optim package\n",
    "optimizer = torch.optim.SGD(model.parameters(), lr=0.001, momentum=0.9)"
   ]
  },
  {
   "cell_type": "code",
   "execution_count": 8,
   "metadata": {},
   "outputs": [],
   "source": [
    "def train_one_epoch(epoch_index):\n",
    "    running_loss = 0.0\n",
    "    last_loss = 0.0\n",
    "\n",
    "    # Here, we use enumerate(training_loader) instead of\n",
    "    # iter(training_loader) so that we can track the batch\n",
    "    # index and do some intra-epoch reporting\n",
    "    for i, data in enumerate(training_loader):\n",
    "        # Every data instance is an input + label pair\n",
    "        inputs, labels = data\n",
    "\n",
    "        # Zero your gradients for every batch!\n",
    "        optimizer.zero_grad()\n",
    "\n",
    "        # Make predictions for this batch\n",
    "        outputs = model(inputs.to(device=device))\n",
    "\n",
    "        # Compute the loss and its gradients\n",
    "        loss = loss_fn(outputs.to(device=device), labels.to(device=device))\n",
    "        loss.backward()\n",
    "\n",
    "        # Adjust learning weights\n",
    "        optimizer.step()\n",
    "\n",
    "        # Gather data and report\n",
    "        running_loss += loss.item()\n",
    "        if i % 1000 == 999:\n",
    "            last_loss = running_loss / 1000  # loss per batch\n",
    "            print(\"  batch {} loss: {}\".format(i + 1, last_loss))\n",
    "            running_loss = 0.0\n",
    "\n",
    "    return last_loss"
   ]
  },
  {
   "cell_type": "code",
   "execution_count": 9,
   "metadata": {},
   "outputs": [
    {
     "name": "stdout",
     "output_type": "stream",
     "text": [
      "model will be using device =device(type='cpu')\n",
      "EPOCH 1:\n",
      "  batch 1000 loss: 1.7618146203570069\n",
      "  batch 2000 loss: 0.4685900603244081\n",
      "  batch 3000 loss: 0.25991986549142165\n",
      "  batch 4000 loss: 0.20723832609472448\n",
      "  batch 5000 loss: 0.15853243573040526\n",
      "  batch 6000 loss: 0.13265791962576987\n",
      "  batch 7000 loss: 0.12447982238641998\n",
      "  batch 8000 loss: 0.10911008599014894\n",
      "  batch 9000 loss: 0.12481704242081106\n",
      "  batch 10000 loss: 0.09702212485540258\n",
      "  batch 11000 loss: 0.10402974759682547\n",
      "  batch 12000 loss: 0.09530115860029582\n",
      "  batch 13000 loss: 0.09695703676798076\n",
      "  batch 14000 loss: 0.08146814984963567\n",
      "  batch 15000 loss: 0.07620150377683603\n",
      "LOSS train 0.07620150377683603 valid 0.0735132098197937\n",
      "EPOCH 2:\n",
      "  batch 1000 loss: 0.06849603742299086\n",
      "  batch 2000 loss: 0.08342882442270275\n",
      "  batch 3000 loss: 0.06509067659465745\n",
      "  batch 4000 loss: 0.05865199442563153\n",
      "  batch 5000 loss: 0.06100918431799937\n",
      "  batch 6000 loss: 0.06275234313797409\n",
      "  batch 7000 loss: 0.06178189499398604\n",
      "  batch 8000 loss: 0.06862551207960405\n",
      "  batch 9000 loss: 0.05839560382423042\n",
      "  batch 10000 loss: 0.06943118209889144\n",
      "  batch 11000 loss: 0.0621035002750632\n",
      "  batch 12000 loss: 0.05829579134051892\n",
      "  batch 13000 loss: 0.056222638293252206\n",
      "  batch 14000 loss: 0.06242080568551432\n",
      "  batch 15000 loss: 0.05738306300793056\n",
      "LOSS train 0.05738306300793056 valid 0.05561074987053871\n",
      "EPOCH 3:\n",
      "  batch 1000 loss: 0.0494176008184786\n",
      "  batch 2000 loss: 0.043524717182772746\n",
      "  batch 3000 loss: 0.04765155205506335\n",
      "  batch 4000 loss: 0.04287286693977512\n",
      "  batch 5000 loss: 0.048830206334328295\n",
      "  batch 6000 loss: 0.03924723194875764\n",
      "  batch 7000 loss: 0.05127184677008495\n",
      "  batch 8000 loss: 0.04819821835724588\n",
      "  batch 9000 loss: 0.03220004534136456\n",
      "  batch 10000 loss: 0.04332390155217945\n",
      "  batch 11000 loss: 0.04727446364043828\n",
      "  batch 12000 loss: 0.047883136006738256\n",
      "  batch 13000 loss: 0.06067498605525998\n",
      "  batch 14000 loss: 0.04199853881712238\n",
      "  batch 15000 loss: 0.04751924263301043\n",
      "LOSS train 0.04751924263301043 valid 0.04317421093583107\n",
      "EPOCH 4:\n",
      "  batch 1000 loss: 0.035238554322954314\n",
      "  batch 2000 loss: 0.028658396638007504\n",
      "  batch 3000 loss: 0.039328159319842425\n",
      "  batch 4000 loss: 0.034400337407275175\n",
      "  batch 5000 loss: 0.027295085135164016\n",
      "  batch 6000 loss: 0.04188569057406312\n",
      "  batch 7000 loss: 0.03479869303091391\n",
      "  batch 8000 loss: 0.03703950655231506\n",
      "  batch 9000 loss: 0.04820086972972194\n",
      "  batch 10000 loss: 0.02808316092095396\n",
      "  batch 11000 loss: 0.03136000644528883\n",
      "  batch 12000 loss: 0.042646606714048234\n",
      "  batch 13000 loss: 0.037380156891346585\n",
      "  batch 14000 loss: 0.03843736050612569\n",
      "  batch 15000 loss: 0.039426531820109974\n",
      "LOSS train 0.039426531820109974 valid 0.05621451884508133\n",
      "EPOCH 5:\n",
      "  batch 1000 loss: 0.032635605576194965\n",
      "  batch 2000 loss: 0.028507454926008535\n",
      "  batch 3000 loss: 0.03464603584499167\n",
      "  batch 4000 loss: 0.04312832376196752\n",
      "  batch 5000 loss: 0.02383657509925939\n",
      "  batch 6000 loss: 0.030600076547833383\n",
      "  batch 7000 loss: 0.032326169941936995\n",
      "  batch 8000 loss: 0.0264986402173497\n",
      "  batch 9000 loss: 0.03045372859655865\n",
      "  batch 10000 loss: 0.022950541295846213\n",
      "  batch 11000 loss: 0.0337534293211671\n",
      "  batch 12000 loss: 0.03113331836469198\n",
      "  batch 13000 loss: 0.02955999838017233\n",
      "  batch 14000 loss: 0.031289353725562845\n",
      "  batch 15000 loss: 0.03161429479787252\n",
      "LOSS train 0.03161429479787252 valid 0.04575708135962486\n"
     ]
    }
   ],
   "source": [
    "# Initializing in a separate cell so we can easily add more epochs to the same run\n",
    "epoch_number = 0\n",
    "\n",
    "EPOCHS = 5\n",
    "\n",
    "best_v_loss = 1_000_000.0\n",
    "\n",
    "print(f\"model will be using {device =}\")\n",
    "\n",
    "for epoch in range(EPOCHS):\n",
    "    print(\"EPOCH {}:\".format(epoch_number + 1))\n",
    "\n",
    "    # Make sure gradient tracking is on, and do a pass over the data\n",
    "    model.train(True)\n",
    "    avg_loss = train_one_epoch(epoch_number)\n",
    "\n",
    "    running_v_loss = 0.0\n",
    "    # Set the model to evaluation mode, disabling dropout and using population\n",
    "    # statistics for batch normalization.\n",
    "    model.eval()\n",
    "\n",
    "    # Disable gradient computation and reduce memory consumption.\n",
    "    with torch.no_grad():\n",
    "        for i, v_data in enumerate(validation_loader):\n",
    "            v_inputs, v_labels = v_data\n",
    "            v_outputs = model(v_inputs.to(device=device))\n",
    "            v_loss = loss_fn(v_outputs.to(device=device), v_labels.to(device=device))\n",
    "            running_v_loss += v_loss\n",
    "\n",
    "    avg_v_loss = running_v_loss / (i + 1)\n",
    "    print(\"LOSS train {} valid {}\".format(avg_loss, avg_v_loss))\n",
    "\n",
    "    epoch_number += 1"
   ]
  },
  {
   "cell_type": "markdown",
   "metadata": {},
   "source": [
    "### Calculate `accuracy` on the `validation dataset` 🫣"
   ]
  },
  {
   "cell_type": "code",
   "execution_count": 10,
   "metadata": {},
   "outputs": [
    {
     "name": "stdout",
     "output_type": "stream",
     "text": [
      "accuracy on validation dataset is: 0.9864000082015991\n",
      "correct_pred=tensor(9864); incorrect_pred=tensor(136)\n"
     ]
    }
   ],
   "source": [
    "# Set the model to evaluation mode, disabling dropout and using population\n",
    "# statistics for batch normalization.\n",
    "model.eval()\n",
    "\n",
    "# Disable gradient computation and reduce memory consumption.\n",
    "with torch.no_grad():\n",
    "    correct_pred = 0\n",
    "    incorrect_pred = 0\n",
    "    for i, v_data in enumerate(validation_loader):\n",
    "        v_inputs, v_labels = v_data\n",
    "        # load inputs & labels on device\n",
    "        v_inputs = v_inputs.to(device=device)\n",
    "        v_labels = v_labels.to(device=device)\n",
    "\n",
    "        v_outputs = model(v_inputs)\n",
    "        # we're sending 4 images in a batch at once as input to the model.\n",
    "        # hence, we will get output (4*10 predictions).\n",
    "        # we need to apply argmax on axis=1, to get prediction for each image.\n",
    "        predicted_output = v_outputs.argmax(dim=1)\n",
    "\n",
    "        correct_pred += (predicted_output == v_labels).sum()\n",
    "        incorrect_pred += (predicted_output != v_labels).sum()\n",
    "\n",
    "    accuracy = correct_pred / len(validation_set)\n",
    "    print(f\"accuracy on validation dataset is: {accuracy}\")\n",
    "    print(f\"{correct_pred=}; {incorrect_pred=}\")"
   ]
  },
  {
   "cell_type": "markdown",
   "metadata": {},
   "source": [
    "## Visualize model predictions 🚀"
   ]
  },
  {
   "cell_type": "code",
   "execution_count": 11,
   "metadata": {},
   "outputs": [],
   "source": [
    "def visualize_model_predictions():\n",
    "    # torch.manual_seed(42)\n",
    "\n",
    "    my_idx = torch.randint(high=len(validation_set), size=(5,))\n",
    "    print(f\"my random indexes are: {my_idx}\")\n",
    "\n",
    "    # Set the model to evaluation mode, disabling dropout and using population\n",
    "    # statistics for batch normalization.\n",
    "    model.eval()\n",
    "\n",
    "    # Disable gradient computation and reduce memory consumption.\n",
    "    with torch.no_grad():\n",
    "        for i in my_idx:\n",
    "            curr_image, actual_label = validation_set[i]\n",
    "            prediction = model(transforms(curr_image))\n",
    "            predicted_label = prediction.argmax().item()\n",
    "            color = \"red\"\n",
    "            if actual_label==predicted_label:\n",
    "                color=\"green\"\n",
    "            # first transform the image and then let model predict\n",
    "            plt.imshow(curr_image.permute(1, 2, 0))\n",
    "            plt.title(f\"{actual_label=}; {predicted_label=}\", color=color)\n",
    "            plt.axis('off')\n",
    "            plt.show()"
   ]
  },
  {
   "cell_type": "code",
   "execution_count": 12,
   "metadata": {},
   "outputs": [
    {
     "name": "stdout",
     "output_type": "stream",
     "text": [
      "my random indexes are: tensor([4230, 7862, 6239, 3360, 1841])\n"
     ]
    },
    {
     "data": {
      "image/png": "[encoded data removed]",
      "text/plain": [
       "<Figure size 640x480 with 1 Axes>"
      ]
     },
     "metadata": {},
     "output_type": "display_data"
    },
    {
     "data": {
      "image/png": "[encoded data removed]",
      "text/plain": [
       "<Figure size 640x480 with 1 Axes>"
      ]
     },
     "metadata": {},
     "output_type": "display_data"
    },
    {
     "data": {
      "image/png": "[encoded data removed]",
      "text/plain": [
       "<Figure size 640x480 with 1 Axes>"
      ]
     },
     "metadata": {},
     "output_type": "display_data"
    },
    {
     "data": {
      "image/png": "[encoded data removed]",
      "text/plain": [
       "<Figure size 640x480 with 1 Axes>"
      ]
     },
     "metadata": {},
     "output_type": "display_data"
    },
    {
     "data": {
      "image/png": "[encoded data removed]",
      "text/plain": [
       "<Figure size 640x480 with 1 Axes>"
      ]
     },
     "metadata": {},
     "output_type": "display_data"
    }
   ],
   "source": [
    "visualize_model_predictions()"
   ]
  }
 ],
 "metadata": {
  "kernelspec": {
   "display_name": "Python 3",
   "language": "python",
   "name": "python3"
  },
  "language_info": {
   "codemirror_mode": {
    "name": "ipython",
    "version": 3
   },
   "file_extension": ".py",
   "mimetype": "text/x-python",
   "name": "python",
   "nbconvert_exporter": "python",
   "pygments_lexer": "ipython3",
   "version": "3.9.6"
  }
 },
 "nbformat": 4,
 "nbformat_minor": 2
}
