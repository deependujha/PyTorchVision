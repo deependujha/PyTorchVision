{
 "cells": [
  {
   "cell_type": "markdown",
   "metadata": {},
   "source": [
    "## Image classification on CIFAR-10 dataset\n",
    "\n",
    "- `CIFAR: Canadian Institute For Advanced Research`"
   ]
  },
  {
   "cell_type": "markdown",
   "metadata": {},
   "source": [
    "### Import libraries 😌"
   ]
  },
  {
   "cell_type": "code",
   "execution_count": 1,
   "metadata": {},
   "outputs": [
    {
     "data": {
      "text/plain": [
       "device(type='cpu')"
      ]
     },
     "execution_count": 1,
     "metadata": {},
     "output_type": "execute_result"
    }
   ],
   "source": [
    "import numpy as np\n",
    "import torch\n",
    "import torchvision\n",
    "from torchvision.transforms import v2\n",
    "\n",
    "device = torch.device(\"cuda\" if torch.cuda.is_available() else \"cpu\")\n",
    "device"
   ]
  },
  {
   "cell_type": "markdown",
   "metadata": {},
   "source": [
    "### Create transforms which will be applied to images"
   ]
  },
  {
   "cell_type": "code",
   "execution_count": 2,
   "metadata": {},
   "outputs": [],
   "source": [
    "transforms = v2.Compose(\n",
    "    [\n",
    "        v2.PILToTensor(),\n",
    "        v2.ToDtype(torch.float32, scale=True),\n",
    "        v2.Normalize((0.5,), (0.5,)),\n",
    "    ]\n",
    ")\n"
   ]
  },
  {
   "cell_type": "markdown",
   "metadata": {},
   "source": [
    "### get dataset & pass it into `DataLoader`"
   ]
  },
  {
   "cell_type": "code",
   "execution_count": 3,
   "metadata": {},
   "outputs": [
    {
     "name": "stdout",
     "output_type": "stream",
     "text": [
      "Files already downloaded and verified\n",
      "Files already downloaded and verified\n",
      "Training set has 50000 instances\n",
      "Validation set has 10000 instances\n"
     ]
    }
   ],
   "source": [
    "# Create datasets for training & validation, download if necessary\n",
    "training_set = torchvision.datasets.CIFAR10(\n",
    "    \"./data\", train=True, transform=transforms, download=True\n",
    ")\n",
    "validation_set = torchvision.datasets.CIFAR10(\n",
    "    \"./data\", train=False, transform=transforms, download=True\n",
    ")\n",
    "\n",
    "# Class labels\n",
    "classes = (\n",
    "    \"plane\",\n",
    "    \"car\",\n",
    "    \"bird\",\n",
    "    \"cat\",\n",
    "    \"deer\",\n",
    "    \"dog\",\n",
    "    \"frog\",\n",
    "    \"horse\",\n",
    "    \"ship\",\n",
    "    \"truck\",\n",
    ")\n",
    "\n",
    "\n",
    "# Create data loaders for our datasets; shuffle for training, not for validation\n",
    "training_loader = torch.utils.data.DataLoader(training_set, batch_size=4, shuffle=True)\n",
    "validation_loader = torch.utils.data.DataLoader(\n",
    "    validation_set, batch_size=4, shuffle=False\n",
    ")\n",
    "print(\"Training set has {} instances\".format(len(training_set)))\n",
    "print(\"Validation set has {} instances\".format(len(validation_set)))"
   ]
  },
  {
   "cell_type": "markdown",
   "metadata": {},
   "source": [
    "### Visualize dataset"
   ]
  },
  {
   "cell_type": "code",
   "execution_count": 4,
   "metadata": {},
   "outputs": [
    {
     "data": {
      "image/png": "[encoded data removed]",
      "text/plain": [
       "<Figure size 640x480 with 1 Axes>"
      ]
     },
     "metadata": {},
     "output_type": "display_data"
    },
    {
     "name": "stdout",
     "output_type": "stream",
     "text": [
      "cat   dog   car   car  \n"
     ]
    }
   ],
   "source": [
    "import matplotlib.pyplot as plt\n",
    "import numpy as np\n",
    "\n",
    "# functions to show an image\n",
    "\n",
    "\n",
    "def imshow(img):\n",
    "    img = img / 2 + 0.5  # un-normalize\n",
    "    np_img = img.numpy()\n",
    "    plt.imshow(np.transpose(np_img, (1, 2, 0)))\n",
    "    plt.show()\n",
    "\n",
    "\n",
    "# get some random training images\n",
    "data_iter = iter(training_loader)\n",
    "images, labels = next(data_iter)\n",
    "batch_size = 4\n",
    "\n",
    "# show images\n",
    "imshow(torchvision.utils.make_grid(images))\n",
    "# print labels\n",
    "print(\" \".join(f\"{classes[labels[j]]:5s}\" for j in range(batch_size)))"
   ]
  },
  {
   "cell_type": "code",
   "execution_count": 5,
   "metadata": {},
   "outputs": [
    {
     "name": "stdout",
     "output_type": "stream",
     "text": [
      "type(images)=<class 'torch.Tensor'>, type(images[0])=<class 'torch.Tensor'>\n",
      "images.shape=torch.Size([4, 3, 32, 32]), images[0].shape=torch.Size([3, 32, 32])\n"
     ]
    }
   ],
   "source": [
    "print(f\"{type(images)=}, {type(images[0])=}\")\n",
    "print(f\"{images.shape=}, {images[0].shape=}\")"
   ]
  },
  {
   "cell_type": "markdown",
   "metadata": {},
   "source": [
    "### Create model"
   ]
  },
  {
   "cell_type": "code",
   "execution_count": 6,
   "metadata": {},
   "outputs": [],
   "source": [
    "import torch.nn as nn\n",
    "import torch.nn.functional as F\n",
    "\n",
    "\n",
    "class Net(nn.Module):\n",
    "    def __init__(self):\n",
    "        super().__init__()\n",
    "        self.conv1 = nn.Conv2d(3, 32, 5)\n",
    "        self.pool = nn.MaxPool2d(2, 2)\n",
    "        self.conv2 = nn.Conv2d(32, 64, 5)\n",
    "        self.fc1 = nn.Linear(64 * 5 * 5, 120)\n",
    "        self.fc2 = nn.Linear(120, 84)\n",
    "        self.fc3 = nn.Linear(84, 32)\n",
    "        self.fc4 = nn.Linear(32, 10)\n",
    "\n",
    "    def forward(self, x):\n",
    "        x = self.pool(F.relu(self.conv1(x)))\n",
    "        x = self.pool(F.relu(self.conv2(x)))\n",
    "        x = torch.flatten(x, 1)  # flatten all dimensions except batch\n",
    "        x = F.relu(self.fc1(x))\n",
    "        x = F.relu(self.fc2(x))\n",
    "        x = F.relu(self.fc3(x))\n",
    "        x = self.fc4(x)\n",
    "        return x\n",
    "\n",
    "\n",
    "model = Net().to(device=device)"
   ]
  },
  {
   "cell_type": "markdown",
   "metadata": {},
   "source": [
    "### Define `loss function` & `optimizer`"
   ]
  },
  {
   "cell_type": "code",
   "execution_count": 7,
   "metadata": {},
   "outputs": [],
   "source": [
    "import torch.optim as optim\n",
    "\n",
    "loss_fn = nn.CrossEntropyLoss()\n",
    "optimizer = optim.Adam(model.parameters())"
   ]
  },
  {
   "cell_type": "markdown",
   "metadata": {},
   "source": [
    "### Train the network"
   ]
  },
  {
   "cell_type": "code",
   "execution_count": 8,
   "metadata": {},
   "outputs": [],
   "source": [
    "def train_one_epoch(epoch_index):\n",
    "    running_loss = 0.0\n",
    "    last_loss = 0.0\n",
    "\n",
    "    # Here, we use enumerate(training_loader) instead of\n",
    "    # iter(training_loader) so that we can track the batch\n",
    "    # index and do some intra-epoch reporting\n",
    "    for i, data in enumerate(training_loader):\n",
    "        # Every data instance is an input + label pair\n",
    "        inputs, labels = data\n",
    "\n",
    "        # if using GPU, load inputs & labels in the same GPU\n",
    "        inputs = inputs.to(device)\n",
    "        labels = labels.to(device)\n",
    "\n",
    "        # Zero your gradients for every batch!\n",
    "        optimizer.zero_grad()\n",
    "\n",
    "        # Make predictions for this batch\n",
    "        outputs = model(inputs)\n",
    "\n",
    "        # Compute the loss and its gradients\n",
    "        loss = loss_fn(outputs, labels)\n",
    "        loss.backward()\n",
    "\n",
    "        # Adjust learning weights\n",
    "        optimizer.step()\n",
    "\n",
    "        # Gather data and report\n",
    "        running_loss += loss.item()\n",
    "        if i % 1000 == 999:\n",
    "            last_loss = running_loss / 1000  # loss per batch\n",
    "            print(\"  batch {} loss: {}\".format(i + 1, last_loss))\n",
    "            running_loss = 0.0\n",
    "\n",
    "    return last_loss"
   ]
  },
  {
   "cell_type": "code",
   "execution_count": 9,
   "metadata": {},
   "outputs": [
    {
     "name": "stdout",
     "output_type": "stream",
     "text": [
      "model will be using device =device(type='cpu')\n",
      "EPOCH 1:\n",
      "  batch 1000 loss: 2.028338450849056\n",
      "  batch 2000 loss: 1.7326771029233932\n",
      "  batch 3000 loss: 1.6531522907614709\n",
      "  batch 4000 loss: 1.5970154332816602\n",
      "  batch 5000 loss: 1.5384647486805916\n",
      "  batch 6000 loss: 1.5260252195298671\n",
      "  batch 7000 loss: 1.468418264001608\n",
      "  batch 8000 loss: 1.4696162721812724\n",
      "  batch 9000 loss: 1.4386728931367396\n",
      "  batch 10000 loss: 1.4367627336084843\n",
      "  batch 11000 loss: 1.422573959618807\n",
      "  batch 12000 loss: 1.404243180513382\n",
      "LOSS train 1.404243180513382 valid 1.3485703468322754\n",
      "EPOCH 2:\n",
      "  batch 1000 loss: 1.3161431508511305\n",
      "  batch 2000 loss: 1.3419015819579363\n",
      "  batch 3000 loss: 1.3333147735595703\n",
      "  batch 4000 loss: 1.3298618900328874\n",
      "  batch 5000 loss: 1.343577474758029\n",
      "  batch 6000 loss: 1.332447411686182\n",
      "  batch 7000 loss: 1.2952803283110261\n",
      "  batch 8000 loss: 1.2848764155507089\n",
      "  batch 9000 loss: 1.2821233088374138\n",
      "  batch 10000 loss: 1.2669644596874714\n",
      "  batch 11000 loss: 1.241944793306291\n",
      "  batch 12000 loss: 1.2236255009844899\n",
      "LOSS train 1.2236255009844899 valid 1.2180596590042114\n",
      "EPOCH 3:\n",
      "  batch 1000 loss: 1.165634686395526\n",
      "  batch 2000 loss: 1.1826120484396816\n",
      "  batch 3000 loss: 1.1941279701218008\n",
      "  batch 4000 loss: 1.1860008780881763\n",
      "  batch 5000 loss: 1.2150082418955863\n",
      "  batch 6000 loss: 1.1713734350278973\n",
      "  batch 7000 loss: 1.1752905474305153\n",
      "  batch 8000 loss: 1.1641501387320459\n",
      "  batch 9000 loss: 1.1569640101566911\n",
      "  batch 10000 loss: 1.166433977227658\n",
      "  batch 11000 loss: 1.1392496933713556\n",
      "  batch 12000 loss: 1.1428110420107842\n",
      "LOSS train 1.1428110420107842 valid 1.1384146213531494\n",
      "EPOCH 4:\n",
      "  batch 1000 loss: 1.054575172752142\n",
      "  batch 2000 loss: 1.0895190473608674\n",
      "  batch 3000 loss: 1.0930988937914372\n",
      "  batch 4000 loss: 1.0781931582689286\n",
      "  batch 5000 loss: 1.0942300976105035\n",
      "  batch 6000 loss: 1.1254324541948735\n",
      "  batch 7000 loss: 1.0628922188133\n",
      "  batch 8000 loss: 1.0871135320998728\n",
      "  batch 9000 loss: 1.0621208558566868\n",
      "  batch 10000 loss: 1.1082851221188903\n",
      "  batch 11000 loss: 1.1142454774733632\n",
      "  batch 12000 loss: 1.0799219577185577\n",
      "LOSS train 1.0799219577185577 valid 1.176408052444458\n",
      "EPOCH 5:\n",
      "  batch 1000 loss: 1.0238707875888795\n",
      "  batch 2000 loss: 0.9965985076269135\n",
      "  batch 3000 loss: 1.0065865752007812\n",
      "  batch 4000 loss: 1.0385483482577837\n",
      "  batch 5000 loss: 1.0439319095136599\n",
      "  batch 6000 loss: 0.9947862889473327\n",
      "  batch 7000 loss: 1.0457757565043866\n",
      "  batch 8000 loss: 1.0443000558130444\n",
      "  batch 9000 loss: 1.0316091295825318\n",
      "  batch 10000 loss: 1.0404242348652333\n",
      "  batch 11000 loss: 1.0064904585909098\n",
      "  batch 12000 loss: 1.013872952045873\n",
      "LOSS train 1.013872952045873 valid 1.1225144863128662\n",
      "EPOCH 6:\n",
      "  batch 1000 loss: 0.9718022583182901\n",
      "  batch 2000 loss: 0.9976966925384477\n",
      "  batch 3000 loss: 0.974753814700176\n",
      "  batch 4000 loss: 0.9938100732304156\n",
      "  batch 5000 loss: 0.9711724674832076\n",
      "  batch 6000 loss: 0.9978985766619444\n",
      "  batch 7000 loss: 0.9726740848361515\n",
      "  batch 8000 loss: 1.0450956171937287\n",
      "  batch 9000 loss: 0.9867003458514809\n",
      "  batch 10000 loss: 0.9813426700923592\n",
      "  batch 11000 loss: 0.9936699982406572\n",
      "  batch 12000 loss: 0.989347819853574\n",
      "LOSS train 0.989347819853574 valid 1.0661978721618652\n",
      "EPOCH 7:\n",
      "  batch 1000 loss: 0.9333449116563425\n",
      "  batch 2000 loss: 0.9524454437643289\n",
      "  batch 3000 loss: 0.946285518411547\n",
      "  batch 4000 loss: 0.9557377230309648\n",
      "  batch 5000 loss: 0.953186385113746\n",
      "  batch 6000 loss: 0.9406525351926684\n",
      "  batch 7000 loss: 0.9388363158120774\n",
      "  batch 8000 loss: 0.9595791939054615\n",
      "  batch 9000 loss: 0.9890651645017787\n",
      "  batch 10000 loss: 0.9585309522114694\n",
      "  batch 11000 loss: 0.9873561322373571\n",
      "  batch 12000 loss: 0.963487767599523\n",
      "LOSS train 0.963487767599523 valid 1.0590952634811401\n",
      "EPOCH 8:\n",
      "  batch 1000 loss: 0.9235674581910717\n",
      "  batch 2000 loss: 0.9021402371451258\n",
      "  batch 3000 loss: 0.9339660718245432\n",
      "  batch 4000 loss: 0.9191052030590363\n",
      "  batch 5000 loss: 0.9060910182707012\n",
      "  batch 6000 loss: 0.9121520721856504\n",
      "  batch 7000 loss: 0.932170918216696\n",
      "  batch 8000 loss: 0.936099229415413\n",
      "  batch 9000 loss: 0.9615056509232381\n",
      "  batch 10000 loss: 0.9337349467109889\n",
      "  batch 11000 loss: 0.9389772964002332\n",
      "  batch 12000 loss: 0.9360779405040667\n",
      "LOSS train 0.9360779405040667 valid 1.046852707862854\n",
      "EPOCH 9:\n",
      "  batch 1000 loss: 0.9007091613151134\n",
      "  batch 2000 loss: 0.8857587699173018\n",
      "  batch 3000 loss: 0.9059279779577628\n",
      "  batch 4000 loss: 0.9046633324762806\n",
      "  batch 5000 loss: 0.8519095021621325\n",
      "  batch 6000 loss: 0.9062428971088957\n",
      "  batch 7000 loss: 0.87942338438984\n",
      "  batch 8000 loss: 0.918238900879398\n",
      "  batch 9000 loss: 0.9311478392342105\n",
      "  batch 10000 loss: 0.9719854883588851\n",
      "  batch 11000 loss: 0.8871231016453821\n",
      "  batch 12000 loss: 0.9228737771995366\n",
      "LOSS train 0.9228737771995366 valid 1.0387086868286133\n",
      "EPOCH 10:\n",
      "  batch 1000 loss: 0.8517353406930342\n",
      "  batch 2000 loss: 0.8655742153618484\n",
      "  batch 3000 loss: 0.8861394682135433\n",
      "  batch 4000 loss: 0.896164715516381\n",
      "  batch 5000 loss: 0.8659534665764077\n",
      "  batch 6000 loss: 0.8723641519856173\n",
      "  batch 7000 loss: 0.8702590214861556\n",
      "  batch 8000 loss: 0.8719305557840853\n",
      "  batch 9000 loss: 0.8906861258139834\n",
      "  batch 10000 loss: 0.8973326185999904\n",
      "  batch 11000 loss: 0.9025268212165684\n",
      "  batch 12000 loss: 0.9052161583914422\n",
      "LOSS train 0.9052161583914422 valid 0.9948441386222839\n",
      "EPOCH 11:\n",
      "  batch 1000 loss: 0.8531724192686378\n",
      "  batch 2000 loss: 0.8309267102665036\n",
      "  batch 3000 loss: 0.8525297769997123\n",
      "  batch 4000 loss: 0.8687428658632561\n",
      "  batch 5000 loss: 0.837547811964294\n",
      "  batch 6000 loss: 0.8687973977439105\n",
      "  batch 7000 loss: 0.8690236958386959\n",
      "  batch 8000 loss: 0.8820327459778636\n",
      "  batch 9000 loss: 0.8923867830689997\n",
      "  batch 10000 loss: 0.8534804148892872\n",
      "  batch 11000 loss: 0.8663362723514437\n",
      "  batch 12000 loss: 0.8834982975418679\n",
      "LOSS train 0.8834982975418679 valid 1.0618351697921753\n",
      "EPOCH 12:\n",
      "  batch 1000 loss: 0.8006619315282442\n",
      "  batch 2000 loss: 0.8067503420896828\n",
      "  batch 3000 loss: 0.8167627025139518\n",
      "  batch 4000 loss: 0.8566627687499858\n",
      "  batch 5000 loss: 0.7996520956422318\n",
      "  batch 6000 loss: 0.8674785835929215\n",
      "  batch 7000 loss: 0.8689106466793455\n",
      "  batch 8000 loss: 0.8534791545723565\n",
      "  batch 9000 loss: 0.8191632484218572\n",
      "  batch 10000 loss: 0.8447836914202198\n",
      "  batch 11000 loss: 0.8749726663222537\n",
      "  batch 12000 loss: 0.8663121953839437\n",
      "LOSS train 0.8663121953839437 valid 1.0297478437423706\n",
      "EPOCH 13:\n",
      "  batch 1000 loss: 0.7816343144849379\n",
      "  batch 2000 loss: 0.8445568119396921\n",
      "  batch 3000 loss: 0.8085499279521173\n",
      "  batch 4000 loss: 0.8185517206103541\n",
      "  batch 5000 loss: 0.81881843461073\n",
      "  batch 6000 loss: 0.8318229343974526\n",
      "  batch 7000 loss: 0.8124776210109703\n",
      "  batch 8000 loss: 0.8509958120357187\n",
      "  batch 9000 loss: 0.8108219259940088\n",
      "  batch 10000 loss: 0.8097826095858182\n",
      "  batch 11000 loss: 0.870423559867777\n",
      "  batch 12000 loss: 0.8566753182634711\n",
      "LOSS train 0.8566753182634711 valid 1.06376314163208\n",
      "EPOCH 14:\n",
      "  batch 1000 loss: 0.7836273257607826\n",
      "  batch 2000 loss: 0.8002501874472946\n",
      "  batch 3000 loss: 0.795269708847627\n",
      "  batch 4000 loss: 0.8220660188132897\n",
      "  batch 5000 loss: 0.8026379951429553\n",
      "  batch 6000 loss: 0.7731618431432289\n",
      "  batch 7000 loss: 0.7981307353654411\n",
      "  batch 8000 loss: 0.7796637584208511\n",
      "  batch 9000 loss: 0.8230485981654492\n",
      "  batch 10000 loss: 0.8338676204385702\n",
      "  batch 11000 loss: 0.8343338061964605\n",
      "  batch 12000 loss: 0.811155887435656\n",
      "LOSS train 0.811155887435656 valid 1.0745501518249512\n",
      "EPOCH 15:\n",
      "  batch 1000 loss: 0.7978667999715544\n",
      "  batch 2000 loss: 0.7181871211236576\n",
      "  batch 3000 loss: 0.7646247925504577\n",
      "  batch 4000 loss: 0.7670311816755011\n",
      "  batch 5000 loss: 0.7956044295131869\n",
      "  batch 6000 loss: 0.8143371071133297\n",
      "  batch 7000 loss: 0.7694900124026463\n",
      "  batch 8000 loss: 0.8075394989235792\n",
      "  batch 9000 loss: 0.7622497534169815\n",
      "  batch 10000 loss: 0.8553820145927602\n",
      "  batch 11000 loss: 0.8276002513195854\n",
      "  batch 12000 loss: 0.8064873766338132\n",
      "LOSS train 0.8064873766338132 valid 1.409780502319336\n",
      "EPOCH 16:\n",
      "  batch 1000 loss: 0.7702821230998379\n",
      "  batch 2000 loss: 0.7279480123745161\n",
      "  batch 3000 loss: 0.7628839318455429\n",
      "  batch 4000 loss: 0.9755821331584593\n",
      "  batch 5000 loss: 0.7744832210242748\n",
      "  batch 6000 loss: 0.7657144313937752\n",
      "  batch 7000 loss: 0.7765540396747529\n",
      "  batch 8000 loss: 0.7887741998056881\n",
      "  batch 9000 loss: 0.7758690081837849\n",
      "  batch 10000 loss: 0.8505390813691774\n",
      "  batch 11000 loss: 0.8141220536865293\n",
      "  batch 12000 loss: 0.7919287941851653\n",
      "LOSS train 0.7919287941851653 valid 0.9951636791229248\n",
      "EPOCH 17:\n",
      "  batch 1000 loss: 0.7167782184452445\n",
      "  batch 2000 loss: 0.7283440183979691\n",
      "  batch 3000 loss: 0.7863008836804656\n",
      "  batch 4000 loss: 0.7675600955404807\n",
      "  batch 5000 loss: 0.8236092126837757\n",
      "  batch 6000 loss: 0.7376655033035786\n",
      "  batch 7000 loss: 0.7535483000825625\n",
      "  batch 8000 loss: 0.7786985950069502\n",
      "  batch 9000 loss: 0.8091189050662797\n",
      "  batch 10000 loss: 0.7812868775849638\n",
      "  batch 11000 loss: 0.816995256268885\n",
      "  batch 12000 loss: 0.8008933795300546\n",
      "LOSS train 0.8008933795300546 valid 1.0427004098892212\n",
      "EPOCH 18:\n",
      "  batch 1000 loss: 0.7200725652719848\n",
      "  batch 2000 loss: 0.7024959579544374\n",
      "  batch 3000 loss: 0.7249122565923014\n",
      "  batch 4000 loss: 0.7659007217664039\n",
      "  batch 5000 loss: 0.7359970539305359\n",
      "  batch 6000 loss: 0.7976255320011988\n",
      "  batch 7000 loss: 0.7719148516181158\n",
      "  batch 8000 loss: 0.7770671743154526\n",
      "  batch 9000 loss: 0.8081096435701475\n",
      "  batch 10000 loss: 0.756649130150734\n",
      "  batch 11000 loss: 0.7386947774038999\n",
      "  batch 12000 loss: 0.7630645161414286\n",
      "LOSS train 0.7630645161414286 valid 1.1128911972045898\n",
      "EPOCH 19:\n",
      "  batch 1000 loss: 0.6710873549263925\n",
      "  batch 2000 loss: 0.7353997444783453\n",
      "  batch 3000 loss: 0.7669558342577657\n",
      "  batch 4000 loss: 0.701955545556033\n",
      "  batch 5000 loss: 0.7320607379517751\n",
      "  batch 6000 loss: 0.6906731663852406\n",
      "  batch 7000 loss: 0.7191740237473859\n",
      "  batch 8000 loss: 0.735180584254243\n",
      "  batch 9000 loss: 0.769827208542527\n",
      "  batch 10000 loss: 0.7193253624736653\n",
      "  batch 11000 loss: 0.7785363343011122\n",
      "  batch 12000 loss: 0.8230215616663918\n",
      "LOSS train 0.8230215616663918 valid 1.004003882408142\n",
      "EPOCH 20:\n",
      "  batch 1000 loss: 0.6930007613054476\n",
      "  batch 2000 loss: 0.7093491706412751\n",
      "  batch 3000 loss: 0.6799513362596917\n",
      "  batch 4000 loss: 0.7297190071437508\n",
      "  batch 5000 loss: 0.7105949590907694\n",
      "  batch 6000 loss: 0.6942333208670898\n",
      "  batch 7000 loss: 0.7420666873258888\n",
      "  batch 8000 loss: 0.7454819322389085\n",
      "  batch 9000 loss: 0.8007479517169704\n",
      "  batch 10000 loss: 0.7969506172719412\n",
      "  batch 11000 loss: 0.7464019773481414\n",
      "  batch 12000 loss: 0.7407578234742396\n",
      "LOSS train 0.7407578234742396 valid 1.0086543560028076\n"
     ]
    }
   ],
   "source": [
    "# Initializing in a separate cell so we can easily add more epochs to the same run\n",
    "epoch_number = 0\n",
    "\n",
    "EPOCHS = 20\n",
    "\n",
    "best_v_loss = 1_000_000.0\n",
    "\n",
    "print(f\"model will be using {device =}\")\n",
    "\n",
    "for epoch in range(EPOCHS):\n",
    "    print(\"EPOCH {}:\".format(epoch_number + 1))\n",
    "\n",
    "    # Make sure gradient tracking is on, and do a pass over the data\n",
    "    model.train(True)\n",
    "    avg_loss = train_one_epoch(epoch_number)\n",
    "\n",
    "    running_v_loss = 0.0\n",
    "    # Set the model to evaluation mode, disabling dropout and using population\n",
    "    # statistics for batch normalization.\n",
    "    model.eval()\n",
    "\n",
    "    # Disable gradient computation and reduce memory consumption.\n",
    "    with torch.no_grad():\n",
    "        for i, v_data in enumerate(validation_loader):\n",
    "            v_inputs, v_labels = v_data\n",
    "            # load inputs & labels on device\n",
    "            v_inputs = v_inputs.to(device=device)\n",
    "            v_labels = v_labels.to(device=device)\n",
    "            v_outputs = model(v_inputs)\n",
    "            v_loss = loss_fn(v_outputs, v_labels)\n",
    "            running_v_loss += v_loss\n",
    "\n",
    "    avg_v_loss = running_v_loss / (i + 1)\n",
    "    print(\"LOSS train {} valid {}\".format(avg_loss, avg_v_loss))\n",
    "\n",
    "    epoch_number += 1"
   ]
  },
  {
   "cell_type": "markdown",
   "metadata": {},
   "source": [
    "### Calculate `accuracy` on the `validation dataset` 🫣"
   ]
  },
  {
   "cell_type": "code",
   "execution_count": 10,
   "metadata": {},
   "outputs": [
    {
     "name": "stdout",
     "output_type": "stream",
     "text": [
      "accuracy on validation dataset is: 0.6796000003814697\n",
      "correct_pred=tensor(6796); incorrect_pred=tensor(3204)\n"
     ]
    }
   ],
   "source": [
    "# Set the model to evaluation mode, disabling dropout and using population\n",
    "# statistics for batch normalization.\n",
    "model.eval()\n",
    "\n",
    "# Disable gradient computation and reduce memory consumption.\n",
    "with torch.no_grad():\n",
    "    correct_pred = 0\n",
    "    incorrect_pred = 0\n",
    "    for i, v_data in enumerate(validation_loader):\n",
    "        v_inputs, v_labels = v_data\n",
    "        # load inputs & labels on device\n",
    "        v_inputs = v_inputs.to(device=device)\n",
    "        v_labels = v_labels.to(device=device)\n",
    "\n",
    "        v_outputs = model(v_inputs)\n",
    "        # we're sending 4 images in a batch at once as input to the model.\n",
    "        # hence, we will get output (4*10 predictions).\n",
    "        # we need to apply argmax on axis=1, to get prediction for each image.\n",
    "        predicted_output = v_outputs.argmax(dim=1)\n",
    "\n",
    "        correct_pred += (predicted_output == v_labels).sum()\n",
    "        incorrect_pred += (predicted_output != v_labels).sum()\n",
    "\n",
    "    accuracy = correct_pred / len(validation_set)\n",
    "    print(f\"accuracy on validation dataset is: {accuracy}\")\n",
    "    print(f\"{correct_pred=}; {incorrect_pred=}\")"
   ]
  },
  {
   "cell_type": "markdown",
   "metadata": {},
   "source": [
    "### Visualize predictions"
   ]
  },
  {
   "cell_type": "code",
   "execution_count": 11,
   "metadata": {},
   "outputs": [],
   "source": [
    "def visualize_model_predictions():\n",
    "    # torch.manual_seed(42)\n",
    "\n",
    "    my_idx = torch.randint(high=len(validation_set), size=(5,))\n",
    "    print(f\"my random indexes are: {my_idx}\")\n",
    "\n",
    "    # Set the model to evaluation mode, disabling dropout and using population\n",
    "    # statistics for batch normalization.\n",
    "    model.eval()\n",
    "\n",
    "    # Disable gradient computation and reduce memory consumption.\n",
    "    with torch.no_grad():\n",
    "        # get some random training images\n",
    "        data_iter = iter(training_loader)\n",
    "        images, actual_label = next(data_iter)\n",
    "\n",
    "        # copy image & label to device\n",
    "        images = images.to(device)\n",
    "        actual_label = actual_label.to(device)\n",
    "\n",
    "        prediction = model(images)\n",
    "        predicted_label = prediction.argmax(dim=1)\n",
    "        # print(f\"{actual_label=}; {predicted_label=}; {prediction=}\")\n",
    "\n",
    "        for i in range(len(actual_label)):\n",
    "            color = \"red\"\n",
    "            if actual_label[i] == predicted_label[i]:\n",
    "                color = \"green\"\n",
    "            # first transform the image and then let model predict\n",
    "            plt.imshow(images[i].permute(1, 2, 0))\n",
    "            plt.title(\n",
    "                f\"{classes[actual_label[i]]=}; {classes[predicted_label[i]]=}\",\n",
    "                color=color,\n",
    "            )\n",
    "            plt.axis(\"off\")\n",
    "            plt.show()"
   ]
  },
  {
   "cell_type": "code",
   "execution_count": 12,
   "metadata": {},
   "outputs": [
    {
     "name": "stderr",
     "output_type": "stream",
     "text": [
      "Clipping input data to the valid range for imshow with RGB data ([0..1] for floats or [0..255] for integers).\n"
     ]
    },
    {
     "name": "stdout",
     "output_type": "stream",
     "text": [
      "my random indexes are: tensor([4811, 4387, 2869, 2822, 4401])\n"
     ]
    },
    {
     "data": {
      "image/png": "[encoded data removed]",
      "text/plain": [
       "<Figure size 640x480 with 1 Axes>"
      ]
     },
     "metadata": {},
     "output_type": "display_data"
    },
    {
     "name": "stderr",
     "output_type": "stream",
     "text": [
      "Clipping input data to the valid range for imshow with RGB data ([0..1] for floats or [0..255] for integers).\n"
     ]
    },
    {
     "data": {
      "image/png": "[encoded data removed]",
      "text/plain": [
       "<Figure size 640x480 with 1 Axes>"
      ]
     },
     "metadata": {},
     "output_type": "display_data"
    },
    {
     "name": "stderr",
     "output_type": "stream",
     "text": [
      "Clipping input data to the valid range for imshow with RGB data ([0..1] for floats or [0..255] for integers).\n"
     ]
    },
    {
     "data": {
      "image/png": "[encoded data removed]",
      "text/plain": [
       "<Figure size 640x480 with 1 Axes>"
      ]
     },
     "metadata": {},
     "output_type": "display_data"
    },
    {
     "name": "stderr",
     "output_type": "stream",
     "text": [
      "Clipping input data to the valid range for imshow with RGB data ([0..1] for floats or [0..255] for integers).\n"
     ]
    },
    {
     "data": {
      "image/png": "[encoded data removed]",
      "text/plain": [
       "<Figure size 640x480 with 1 Axes>"
      ]
     },
     "metadata": {},
     "output_type": "display_data"
    }
   ],
   "source": [
    "visualize_model_predictions()"
   ]
  }
 ],
 "metadata": {
  "kernelspec": {
   "display_name": "Python 3",
   "language": "python",
   "name": "python3"
  },
  "language_info": {
   "codemirror_mode": {
    "name": "ipython",
    "version": 3
   },
   "file_extension": ".py",
   "mimetype": "text/x-python",
   "name": "python",
   "nbconvert_exporter": "python",
   "pygments_lexer": "ipython3",
   "version": "3.9.6"
  }
 },
 "nbformat": 4,
 "nbformat_minor": 2
}
