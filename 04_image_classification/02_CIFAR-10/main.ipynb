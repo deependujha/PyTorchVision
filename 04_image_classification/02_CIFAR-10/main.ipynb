{
 "cells": [
  {
   "cell_type": "markdown",
   "metadata": {},
   "source": [
    "## Image classification on CIFAR-10 dataset\n",
    "\n",
    "- `CIFAR: Canadian Institute For Advanced Research`"
   ]
  },
  {
   "cell_type": "markdown",
   "metadata": {},
   "source": [
    "### Import libraries 😌"
   ]
  },
  {
   "cell_type": "code",
   "execution_count": 1,
   "metadata": {},
   "outputs": [
    {
     "data": {
      "text/plain": [
       "device(type='cpu')"
      ]
     },
     "execution_count": 1,
     "metadata": {},
     "output_type": "execute_result"
    }
   ],
   "source": [
    "import numpy as np\n",
    "import torch\n",
    "import torchvision\n",
    "from torchvision.transforms import v2\n",
    "\n",
    "device = torch.device(\"cuda\" if torch.cuda.is_available() else \"cpu\")\n",
    "device"
   ]
  },
  {
   "cell_type": "markdown",
   "metadata": {},
   "source": [
    "### Create transforms which will be applied to images"
   ]
  },
  {
   "cell_type": "code",
   "execution_count": 2,
   "metadata": {},
   "outputs": [],
   "source": [
    "transforms = v2.Compose(\n",
    "    [\n",
    "        v2.PILToTensor(),\n",
    "        v2.ToDtype(torch.float32, scale=True),\n",
    "        v2.Normalize((0.5,), (0.5,)),\n",
    "    ]\n",
    ")"
   ]
  },
  {
   "cell_type": "markdown",
   "metadata": {},
   "source": [
    "### get dataset & pass it into `DataLoader`"
   ]
  },
  {
   "cell_type": "code",
   "execution_count": 3,
   "metadata": {},
   "outputs": [
    {
     "name": "stdout",
     "output_type": "stream",
     "text": [
      "Files already downloaded and verified\n",
      "Files already downloaded and verified\n",
      "Training set has 50000 instances\n",
      "Validation set has 10000 instances\n"
     ]
    }
   ],
   "source": [
    "# Create datasets for training & validation, download if necessary\n",
    "training_set = torchvision.datasets.CIFAR10(\n",
    "    \"./data\", train=True, transform=transforms, download=True\n",
    ")\n",
    "validation_set = torchvision.datasets.CIFAR10(\n",
    "    \"./data\", train=False, transform=transforms, download=True\n",
    ")\n",
    "\n",
    "# Class labels\n",
    "classes = (\n",
    "    \"plane\",\n",
    "    \"car\",\n",
    "    \"bird\",\n",
    "    \"cat\",\n",
    "    \"deer\",\n",
    "    \"dog\",\n",
    "    \"frog\",\n",
    "    \"horse\",\n",
    "    \"ship\",\n",
    "    \"truck\",\n",
    ")\n",
    "\n",
    "\n",
    "# Create data loaders for our datasets; shuffle for training, not for validation\n",
    "training_loader = torch.utils.data.DataLoader(training_set, batch_size=4, shuffle=True)\n",
    "validation_loader = torch.utils.data.DataLoader(\n",
    "    validation_set, batch_size=4, shuffle=False\n",
    ")\n",
    "print(\"Training set has {} instances\".format(len(training_set)))\n",
    "print(\"Validation set has {} instances\".format(len(validation_set)))"
   ]
  },
  {
   "cell_type": "markdown",
   "metadata": {},
   "source": [
    "### Visualize dataset"
   ]
  },
  {
   "cell_type": "code",
   "execution_count": 4,
   "metadata": {},
   "outputs": [
    {
     "data": {
      "image/png": "[encoded data removed]",
      "text/plain": [
       "<Figure size 640x480 with 1 Axes>"
      ]
     },
     "metadata": {},
     "output_type": "display_data"
    },
    {
     "name": "stdout",
     "output_type": "stream",
     "text": [
      "cat   frog  dog   dog  \n"
     ]
    }
   ],
   "source": [
    "import matplotlib.pyplot as plt\n",
    "import numpy as np\n",
    "\n",
    "# functions to show an image\n",
    "\n",
    "\n",
    "def imshow(img):\n",
    "    img = img / 2 + 0.5  # un-normalize\n",
    "    np_img = img.numpy()\n",
    "    plt.imshow(np.transpose(np_img, (1, 2, 0)))\n",
    "    plt.show()\n",
    "\n",
    "\n",
    "# get some random training images\n",
    "data_iter = iter(training_loader)\n",
    "images, labels = next(data_iter)\n",
    "batch_size = 4\n",
    "\n",
    "# show images\n",
    "imshow(torchvision.utils.make_grid(images))\n",
    "# print labels\n",
    "print(\" \".join(f\"{classes[labels[j]]:5s}\" for j in range(batch_size)))"
   ]
  },
  {
   "cell_type": "code",
   "execution_count": 5,
   "metadata": {},
   "outputs": [
    {
     "name": "stdout",
     "output_type": "stream",
     "text": [
      "type(images)=<class 'torch.Tensor'>, type(images[0])=<class 'torch.Tensor'>\n",
      "images.shape=torch.Size([4, 3, 32, 32]), images[0].shape=torch.Size([3, 32, 32])\n"
     ]
    }
   ],
   "source": [
    "print(f\"{type(images)=}, {type(images[0])=}\")\n",
    "print(f\"{images.shape=}, {images[0].shape=}\")"
   ]
  },
  {
   "cell_type": "markdown",
   "metadata": {},
   "source": [
    "### Create model"
   ]
  },
  {
   "cell_type": "code",
   "execution_count": 11,
   "metadata": {},
   "outputs": [],
   "source": [
    "import torch.nn as nn\n",
    "import torch.nn.functional as F\n",
    "\n",
    "\n",
    "class Net(nn.Module):\n",
    "    def __init__(self):\n",
    "        super().__init__()\n",
    "        self.conv1 = nn.Conv2d(3, 32, 5)\n",
    "        self.pool = nn.MaxPool2d(2, 2)\n",
    "        self.conv2 = nn.Conv2d(32, 64, 5)\n",
    "        self.fc1 = nn.Linear(64 * 5 * 5, 120)\n",
    "        self.fc2 = nn.Linear(120, 84)\n",
    "        self.fc3 = nn.Linear(84, 32)\n",
    "        self.fc4 = nn.Linear(32, 10)\n",
    "\n",
    "    def forward(self, x):\n",
    "        x = self.pool(F.relu(self.conv1(x)))\n",
    "        x = self.pool(F.relu(self.conv2(x)))\n",
    "        x = torch.flatten(x, 1)  # flatten all dimensions except batch\n",
    "        x = F.relu(self.fc1(x))\n",
    "        x = F.relu(self.fc2(x))\n",
    "        x = F.relu(self.fc3(x))\n",
    "        x = self.fc4(x)\n",
    "        return x\n",
    "\n",
    "\n",
    "model = Net().to(device=device)"
   ]
  },
  {
   "cell_type": "markdown",
   "metadata": {},
   "source": [
    "### Define `loss function` & `optimizer`"
   ]
  },
  {
   "cell_type": "code",
   "execution_count": 12,
   "metadata": {},
   "outputs": [],
   "source": [
    "import torch.optim as optim\n",
    "\n",
    "loss_fn = nn.CrossEntropyLoss()\n",
    "optimizer = optim.Adam(model.parameters())"
   ]
  },
  {
   "cell_type": "markdown",
   "metadata": {},
   "source": [
    "### Train the network"
   ]
  },
  {
   "cell_type": "code",
   "execution_count": 13,
   "metadata": {},
   "outputs": [],
   "source": [
    "def train_one_epoch(epoch_index):\n",
    "    running_loss = 0.0\n",
    "    last_loss = 0.0\n",
    "\n",
    "    # Here, we use enumerate(training_loader) instead of\n",
    "    # iter(training_loader) so that we can track the batch\n",
    "    # index and do some intra-epoch reporting\n",
    "    for i, data in enumerate(training_loader):\n",
    "        # Every data instance is an input + label pair\n",
    "        inputs, labels = data\n",
    "\n",
    "        # if using GPU, load inputs & labels in the same GPU\n",
    "        inputs = inputs.to(device)\n",
    "        labels = labels.to(device)\n",
    "\n",
    "        # Zero your gradients for every batch!\n",
    "        optimizer.zero_grad()\n",
    "\n",
    "        # Make predictions for this batch\n",
    "        outputs = model(inputs)\n",
    "\n",
    "        # Compute the loss and its gradients\n",
    "        loss = loss_fn(outputs, labels)\n",
    "        loss.backward()\n",
    "\n",
    "        # Adjust learning weights\n",
    "        optimizer.step()\n",
    "\n",
    "        # Gather data and report\n",
    "        running_loss += loss.item()\n",
    "        if i % 1000 == 999:\n",
    "            last_loss = running_loss / 1000  # loss per batch\n",
    "            print(\"  batch {} loss: {}\".format(i + 1, last_loss))\n",
    "            running_loss = 0.0\n",
    "\n",
    "    return last_loss"
   ]
  },
  {
   "cell_type": "code",
   "execution_count": 14,
   "metadata": {},
   "outputs": [
    {
     "name": "stdout",
     "output_type": "stream",
     "text": [
      "model will be using device =device(type='cpu')\n",
      "EPOCH 1:\n",
      "  batch 1000 loss: 2.023801452875137\n",
      "  batch 2000 loss: 1.7804230248332025\n",
      "  batch 3000 loss: 1.6797631603479386\n",
      "  batch 4000 loss: 1.5944593414664268\n",
      "  batch 5000 loss: 1.5020041250884533\n",
      "  batch 6000 loss: 1.5240621816217899\n",
      "  batch 7000 loss: 1.4515399771481752\n",
      "  batch 8000 loss: 1.4396703203767538\n",
      "  batch 9000 loss: 1.4054608290046453\n",
      "  batch 10000 loss: 1.3513209853470325\n",
      "  batch 11000 loss: 1.3359813200384378\n",
      "  batch 12000 loss: 1.317776116579771\n",
      "LOSS train 1.317776116579771 valid 1.246187448501587\n",
      "EPOCH 2:\n",
      "  batch 1000 loss: 1.2780396716073155\n",
      "  batch 2000 loss: 1.2802183607965707\n",
      "  batch 3000 loss: 1.2347173313200475\n",
      "  batch 4000 loss: 1.229599370136857\n",
      "  batch 5000 loss: 1.2158347972854973\n",
      "  batch 6000 loss: 1.2030204756893217\n",
      "  batch 7000 loss: 1.2123891251273453\n",
      "  batch 8000 loss: 1.2118559214808047\n",
      "  batch 9000 loss: 1.157468635082245\n",
      "  batch 10000 loss: 1.1733438365273177\n",
      "  batch 11000 loss: 1.1740041679218411\n",
      "  batch 12000 loss: 1.1221877025440334\n",
      "LOSS train 1.1221877025440334 valid 1.1820459365844727\n",
      "EPOCH 3:\n",
      "  batch 1000 loss: 1.0910067821033298\n",
      "  batch 2000 loss: 1.1132938027121126\n",
      "  batch 3000 loss: 1.1015242357477546\n",
      "  batch 4000 loss: 1.0836262384112925\n",
      "  batch 5000 loss: 1.1041024640537798\n",
      "  batch 6000 loss: 1.0692368743903935\n",
      "  batch 7000 loss: 1.0946634576544165\n",
      "  batch 8000 loss: 1.0635382016338408\n",
      "  batch 9000 loss: 1.0989432823993266\n",
      "  batch 10000 loss: 1.1120337662138045\n",
      "  batch 11000 loss: 1.0757358949724585\n",
      "  batch 12000 loss: 1.0759439563434572\n",
      "LOSS train 1.0759439563434572 valid 1.070671558380127\n",
      "EPOCH 4:\n",
      "  batch 1000 loss: 1.023801239490509\n",
      "  batch 2000 loss: 1.0131134531404824\n",
      "  batch 3000 loss: 1.047632393926382\n",
      "  batch 4000 loss: 1.0123286975175143\n",
      "  batch 5000 loss: 0.9816029565427452\n",
      "  batch 6000 loss: 1.0087992323506623\n",
      "  batch 7000 loss: 1.0100725718121977\n",
      "  batch 8000 loss: 1.0053051102608441\n",
      "  batch 9000 loss: 0.9965917631424963\n",
      "  batch 10000 loss: 1.0292124403640628\n",
      "  batch 11000 loss: 0.9951486384933814\n",
      "  batch 12000 loss: 1.029305632171221\n",
      "LOSS train 1.029305632171221 valid 1.0360842943191528\n",
      "EPOCH 5:\n",
      "  batch 1000 loss: 0.9481505451016128\n",
      "  batch 2000 loss: 0.9605513870622963\n",
      "  batch 3000 loss: 1.0024680778430775\n",
      "  batch 4000 loss: 0.9528754197312519\n",
      "  batch 5000 loss: 0.9578684683535248\n",
      "  batch 6000 loss: 0.9350671017551795\n",
      "  batch 7000 loss: 0.9805524104759097\n",
      "  batch 8000 loss: 0.9753374506188557\n",
      "  batch 9000 loss: 0.9672253839597106\n",
      "  batch 10000 loss: 0.9533969215732068\n",
      "  batch 11000 loss: 0.9547504799608141\n",
      "  batch 12000 loss: 0.9798071341086179\n",
      "LOSS train 0.9798071341086179 valid 1.005849838256836\n",
      "EPOCH 6:\n",
      "  batch 1000 loss: 0.9060674923267216\n",
      "  batch 2000 loss: 0.9350415400220081\n",
      "  batch 3000 loss: 0.9211371403168886\n",
      "  batch 4000 loss: 0.9157411028696224\n",
      "  batch 5000 loss: 0.8908960281665204\n",
      "  batch 6000 loss: 0.9203134511420503\n",
      "  batch 7000 loss: 0.9520987908998504\n",
      "  batch 8000 loss: 0.9305512941367924\n",
      "  batch 9000 loss: 0.9445623043628875\n",
      "  batch 10000 loss: 0.9434715392403304\n",
      "  batch 11000 loss: 0.927029005786404\n",
      "  batch 12000 loss: 0.9240585370836779\n",
      "LOSS train 0.9240585370836779 valid 1.0604785680770874\n",
      "EPOCH 7:\n",
      "  batch 1000 loss: 0.8608305816326756\n",
      "  batch 2000 loss: 0.8895191957465141\n",
      "  batch 3000 loss: 0.8808951881155371\n",
      "  batch 4000 loss: 0.8624336010087281\n",
      "  batch 5000 loss: 0.8475734856086783\n",
      "  batch 6000 loss: 0.8530869443304837\n",
      "  batch 7000 loss: 0.893620389321819\n",
      "  batch 8000 loss: 0.8867749757161364\n",
      "  batch 9000 loss: 0.9033513040782418\n",
      "  batch 10000 loss: 0.901500651171431\n",
      "  batch 11000 loss: 0.8782345410268754\n",
      "  batch 12000 loss: 0.901701365493238\n",
      "LOSS train 0.901701365493238 valid 0.9828763604164124\n",
      "EPOCH 8:\n",
      "  batch 1000 loss: 0.7998505093909917\n",
      "  batch 2000 loss: 0.8259724138614256\n",
      "  batch 3000 loss: 0.8648777590673417\n",
      "  batch 4000 loss: 0.8727007917314767\n",
      "  batch 5000 loss: 0.8178614285649964\n",
      "  batch 6000 loss: 0.8458457598509267\n",
      "  batch 7000 loss: 0.8707945836451254\n",
      "  batch 8000 loss: 0.8757367393269669\n",
      "  batch 9000 loss: 0.8486356381364166\n",
      "  batch 10000 loss: 0.8607988622747361\n",
      "  batch 11000 loss: 0.8671807839423418\n",
      "  batch 12000 loss: 0.8594444020255468\n",
      "LOSS train 0.8594444020255468 valid 1.003794550895691\n",
      "EPOCH 9:\n",
      "  batch 1000 loss: 0.7955384220320266\n",
      "  batch 2000 loss: 0.841705129080452\n",
      "  batch 3000 loss: 0.8106913865320384\n",
      "  batch 4000 loss: 0.7998822827041149\n",
      "  batch 5000 loss: 0.7612832321482711\n",
      "  batch 6000 loss: 0.8434686752599664\n",
      "  batch 7000 loss: 0.8419771386734209\n",
      "  batch 8000 loss: 0.8158162382659502\n",
      "  batch 9000 loss: 0.8452179294836242\n",
      "  batch 10000 loss: 0.8329483556845225\n",
      "  batch 11000 loss: 0.8283577396173241\n",
      "  batch 12000 loss: 0.8384117749622092\n",
      "LOSS train 0.8384117749622092 valid 0.9710116386413574\n",
      "EPOCH 10:\n",
      "  batch 1000 loss: 0.7764142851624638\n",
      "  batch 2000 loss: 0.7796774419154971\n",
      "  batch 3000 loss: 0.7948348692042054\n",
      "  batch 4000 loss: 0.8231505609920204\n",
      "  batch 5000 loss: 0.7796966158135329\n",
      "  batch 6000 loss: 0.8070179443815141\n",
      "  batch 7000 loss: 0.8119615669213235\n",
      "  batch 8000 loss: 0.7972235756754525\n",
      "  batch 9000 loss: 0.8021221616906113\n",
      "  batch 10000 loss: 0.8396812332402914\n",
      "  batch 11000 loss: 0.8095336773153394\n",
      "  batch 12000 loss: 0.7737901465400355\n",
      "LOSS train 0.7737901465400355 valid 1.013564944267273\n"
     ]
    }
   ],
   "source": [
    "# Initializing in a separate cell so we can easily add more epochs to the same run\n",
    "epoch_number = 0\n",
    "\n",
    "EPOCHS = 10\n",
    "\n",
    "best_v_loss = 1_000_000.0\n",
    "\n",
    "print(f\"model will be using {device =}\")\n",
    "\n",
    "for epoch in range(EPOCHS):\n",
    "    print(\"EPOCH {}:\".format(epoch_number + 1))\n",
    "\n",
    "    # Make sure gradient tracking is on, and do a pass over the data\n",
    "    model.train(True)\n",
    "    avg_loss = train_one_epoch(epoch_number)\n",
    "\n",
    "    running_v_loss = 0.0\n",
    "    # Set the model to evaluation mode, disabling dropout and using population\n",
    "    # statistics for batch normalization.\n",
    "    model.eval()\n",
    "\n",
    "    # Disable gradient computation and reduce memory consumption.\n",
    "    with torch.no_grad():\n",
    "        for i, v_data in enumerate(validation_loader):\n",
    "            v_inputs, v_labels = v_data\n",
    "            # load inputs & labels on device\n",
    "            v_inputs = v_inputs.to(device=device)\n",
    "            v_labels = v_labels.to(device=device)\n",
    "            v_outputs = model(v_inputs)\n",
    "            v_loss = loss_fn(v_outputs, v_labels)\n",
    "            running_v_loss += v_loss\n",
    "\n",
    "    avg_v_loss = running_v_loss / (i + 1)\n",
    "    print(\"LOSS train {} valid {}\".format(avg_loss, avg_v_loss))\n",
    "\n",
    "    epoch_number += 1"
   ]
  },
  {
   "cell_type": "markdown",
   "metadata": {},
   "source": [
    "### Calculate `accuracy` on the `validation dataset` 🫣"
   ]
  },
  {
   "cell_type": "code",
   "execution_count": 15,
   "metadata": {},
   "outputs": [
    {
     "name": "stdout",
     "output_type": "stream",
     "text": [
      "accuracy on validation dataset is: 0.6708999872207642\n",
      "correct_pred=tensor(6709); incorrect_pred=tensor(3291)\n"
     ]
    }
   ],
   "source": [
    "# Set the model to evaluation mode, disabling dropout and using population\n",
    "# statistics for batch normalization.\n",
    "model.eval()\n",
    "\n",
    "# Disable gradient computation and reduce memory consumption.\n",
    "with torch.no_grad():\n",
    "    correct_pred = 0\n",
    "    incorrect_pred = 0\n",
    "    for i, v_data in enumerate(validation_loader):\n",
    "        v_inputs, v_labels = v_data\n",
    "        # load inputs & labels on device\n",
    "        v_inputs = v_inputs.to(device=device)\n",
    "        v_labels = v_labels.to(device=device)\n",
    "\n",
    "        v_outputs = model(v_inputs)\n",
    "        # we're sending 4 images in a batch at once as input to the model.\n",
    "        # hence, we will get output (4*10 predictions).\n",
    "        # we need to apply argmax on axis=1, to get prediction for each image.\n",
    "        predicted_output = v_outputs.argmax(dim=1)\n",
    "\n",
    "        correct_pred += (predicted_output == v_labels).sum()\n",
    "        incorrect_pred += (predicted_output != v_labels).sum()\n",
    "\n",
    "    accuracy = correct_pred / len(validation_set)\n",
    "    print(f\"accuracy on validation dataset is: {accuracy}\")\n",
    "    print(f\"{correct_pred=}; {incorrect_pred=}\")"
   ]
  },
  {
   "cell_type": "markdown",
   "metadata": {},
   "source": [
    "### Visualize predictions"
   ]
  },
  {
   "cell_type": "code",
   "execution_count": 16,
   "metadata": {},
   "outputs": [],
   "source": [
    "def visualize_model_predictions():\n",
    "    # torch.manual_seed(42)\n",
    "\n",
    "    my_idx = torch.randint(high=len(validation_set), size=(5,))\n",
    "    print(f\"my random indexes are: {my_idx}\")\n",
    "\n",
    "    # Set the model to evaluation mode, disabling dropout and using population\n",
    "    # statistics for batch normalization.\n",
    "    model.eval()\n",
    "\n",
    "    # Disable gradient computation and reduce memory consumption.\n",
    "    with torch.no_grad():\n",
    "        # get some random training images\n",
    "        data_iter = iter(training_loader)\n",
    "        images, actual_label = next(data_iter)\n",
    "\n",
    "        # copy image & label to device\n",
    "        images = images.to(device)\n",
    "        actual_label = actual_label.to(device)\n",
    "\n",
    "        prediction = model(images)\n",
    "        predicted_label = prediction.argmax(dim=1)\n",
    "        # print(f\"{actual_label=}; {predicted_label=}; {prediction=}\")\n",
    "\n",
    "        for i in range(len(actual_label)):\n",
    "            color = \"red\"\n",
    "            if actual_label[i] == predicted_label[i]:\n",
    "                color = \"green\"\n",
    "            # first transform the image and then let model predict\n",
    "            plt.imshow(images[i].permute(1, 2, 0))\n",
    "            plt.title(\n",
    "                f\"{classes[actual_label[i]]=}; {classes[predicted_label[i]]=}\",\n",
    "                color=color,\n",
    "            )\n",
    "            plt.axis(\"off\")\n",
    "            plt.show()"
   ]
  },
  {
   "cell_type": "code",
   "execution_count": 17,
   "metadata": {},
   "outputs": [
    {
     "name": "stderr",
     "output_type": "stream",
     "text": [
      "Clipping input data to the valid range for imshow with RGB data ([0..1] for floats or [0..255] for integers).\n"
     ]
    },
    {
     "name": "stdout",
     "output_type": "stream",
     "text": [
      "my random indexes are: tensor([ 778,  124, 4094, 9558, 9532])\n"
     ]
    },
    {
     "data": {
      "image/png": "[encoded data removed]",
      "text/plain": [
       "<Figure size 640x480 with 1 Axes>"
      ]
     },
     "metadata": {},
     "output_type": "display_data"
    },
    {
     "name": "stderr",
     "output_type": "stream",
     "text": [
      "Clipping input data to the valid range for imshow with RGB data ([0..1] for floats or [0..255] for integers).\n"
     ]
    },
    {
     "data": {
      "image/png": "[encoded data removed]",
      "text/plain": [
       "<Figure size 640x480 with 1 Axes>"
      ]
     },
     "metadata": {},
     "output_type": "display_data"
    },
    {
     "name": "stderr",
     "output_type": "stream",
     "text": [
      "Clipping input data to the valid range for imshow with RGB data ([0..1] for floats or [0..255] for integers).\n"
     ]
    },
    {
     "data": {
      "image/png": "[encoded data removed]",
      "text/plain": [
       "<Figure size 640x480 with 1 Axes>"
      ]
     },
     "metadata": {},
     "output_type": "display_data"
    },
    {
     "name": "stderr",
     "output_type": "stream",
     "text": [
      "Clipping input data to the valid range for imshow with RGB data ([0..1] for floats or [0..255] for integers).\n"
     ]
    },
    {
     "data": {
      "image/png": "[encoded data removed]",
      "text/plain": [
       "<Figure size 640x480 with 1 Axes>"
      ]
     },
     "metadata": {},
     "output_type": "display_data"
    }
   ],
   "source": [
    "visualize_model_predictions()"
   ]
  }
 ],
 "metadata": {
  "kernelspec": {
   "display_name": "Python 3",
   "language": "python",
   "name": "python3"
  },
  "language_info": {
   "codemirror_mode": {
    "name": "ipython",
    "version": 3
   },
   "file_extension": ".py",
   "mimetype": "text/x-python",
   "name": "python",
   "nbconvert_exporter": "python",
   "pygments_lexer": "ipython3",
   "version": "3.9.6"
  }
 },
 "nbformat": 4,
 "nbformat_minor": 2
}
